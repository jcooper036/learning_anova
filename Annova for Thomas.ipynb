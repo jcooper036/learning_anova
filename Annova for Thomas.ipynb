{
 "cells": [
  {
   "cell_type": "code",
   "execution_count": 38,
   "metadata": {},
   "outputs": [],
   "source": [
    "%matplotlib inline\n",
    "import pandas as pd\n",
    "import statsmodels.api as sm\n",
    "import numpy as np\n",
    "from statsmodels.formula.api import ols, glm\n",
    "import matplotlib.pyplot as plt"
   ]
  },
  {
   "cell_type": "code",
   "execution_count": 35,
   "metadata": {
    "scrolled": true
   },
   "outputs": [
    {
     "data": {
      "image/png": "[encoded data removed]",
      "text/plain": [
       "<Figure size 432x288 with 1 Axes>"
      ]
     },
     "metadata": {
      "needs_background": "light"
     },
     "output_type": "display_data"
    }
   ],
   "source": [
    "data = pd.read_csv('reduced_data.csv')\n",
    "data['total'] = data['WT grand total'] + data['bw grand total']\n",
    "data.hist('total', bins=20)\n",
    "plt.show()"
   ]
  },
  {
   "cell_type": "code",
   "execution_count": 36,
   "metadata": {},
   "outputs": [
    {
     "data": {
      "text/plain": [
       "array([[<matplotlib.axes._subplots.AxesSubplot object at 0x1c20446a58>]],\n",
       "      dtype=object)"
      ]
     },
     "execution_count": 36,
     "metadata": {},
     "output_type": "execute_result"
    },
    {
     "data": {
      "image/png": "[encoded data removed]",
      "text/plain": [
       "<Figure size 432x288 with 1 Axes>"
      ]
     },
     "metadata": {
      "needs_background": "light"
     },
     "output_type": "display_data"
    }
   ],
   "source": [
    "data = data[data['WT grand total'] > 9]\n",
    "data.hist('total', bins=20)"
   ]
  },
  {
   "cell_type": "code",
   "execution_count": 118,
   "metadata": {},
   "outputs": [
    {
     "data": {
      "text/html": [
       "<div>\n",
       "<style scoped>\n",
       "    .dataframe tbody tr th:only-of-type {\n",
       "        vertical-align: middle;\n",
       "    }\n",
       "\n",
       "    .dataframe tbody tr th {\n",
       "        vertical-align: top;\n",
       "    }\n",
       "\n",
       "    .dataframe thead th {\n",
       "        text-align: right;\n",
       "    }\n",
       "</style>\n",
       "<table border=\"1\" class=\"dataframe\">\n",
       "  <thead>\n",
       "    <tr style=\"text-align: right;\">\n",
       "      <th></th>\n",
       "      <th>WT grand total</th>\n",
       "      <th>bw grand total</th>\n",
       "      <th>genotype</th>\n",
       "      <th>total</th>\n",
       "      <th>k</th>\n",
       "      <th>SD</th>\n",
       "      <th>Rsp</th>\n",
       "      <th>Ovd</th>\n",
       "      <th>k_arcsin</th>\n",
       "    </tr>\n",
       "  </thead>\n",
       "  <tbody>\n",
       "    <tr>\n",
       "      <th>0</th>\n",
       "      <td>198</td>\n",
       "      <td>41</td>\n",
       "      <td>A</td>\n",
       "      <td>239</td>\n",
       "      <td>0.825000</td>\n",
       "      <td>SD72</td>\n",
       "      <td>Rspss</td>\n",
       "      <td>KO</td>\n",
       "      <td>0.970202</td>\n",
       "    </tr>\n",
       "    <tr>\n",
       "      <th>1</th>\n",
       "      <td>176</td>\n",
       "      <td>106</td>\n",
       "      <td>A</td>\n",
       "      <td>282</td>\n",
       "      <td>0.621908</td>\n",
       "      <td>SD72</td>\n",
       "      <td>Rspss</td>\n",
       "      <td>KO</td>\n",
       "      <td>0.671177</td>\n",
       "    </tr>\n",
       "    <tr>\n",
       "      <th>2</th>\n",
       "      <td>147</td>\n",
       "      <td>57</td>\n",
       "      <td>A</td>\n",
       "      <td>204</td>\n",
       "      <td>0.717073</td>\n",
       "      <td>SD72</td>\n",
       "      <td>Rspss</td>\n",
       "      <td>KO</td>\n",
       "      <td>0.799594</td>\n",
       "    </tr>\n",
       "    <tr>\n",
       "      <th>3</th>\n",
       "      <td>94</td>\n",
       "      <td>39</td>\n",
       "      <td>A</td>\n",
       "      <td>133</td>\n",
       "      <td>0.701493</td>\n",
       "      <td>SD72</td>\n",
       "      <td>Rspss</td>\n",
       "      <td>KO</td>\n",
       "      <td>0.777490</td>\n",
       "    </tr>\n",
       "    <tr>\n",
       "      <th>4</th>\n",
       "      <td>74</td>\n",
       "      <td>13</td>\n",
       "      <td>A</td>\n",
       "      <td>87</td>\n",
       "      <td>0.840909</td>\n",
       "      <td>SD72</td>\n",
       "      <td>Rspss</td>\n",
       "      <td>KO</td>\n",
       "      <td>0.998961</td>\n",
       "    </tr>\n",
       "  </tbody>\n",
       "</table>\n",
       "</div>"
      ],
      "text/plain": [
       "   WT grand total  bw grand total genotype  total         k    SD    Rsp Ovd  \\\n",
       "0             198              41        A    239  0.825000  SD72  Rspss  KO   \n",
       "1             176             106        A    282  0.621908  SD72  Rspss  KO   \n",
       "2             147              57        A    204  0.717073  SD72  Rspss  KO   \n",
       "3              94              39        A    133  0.701493  SD72  Rspss  KO   \n",
       "4              74              13        A     87  0.840909  SD72  Rspss  KO   \n",
       "\n",
       "   k_arcsin  \n",
       "0  0.970202  \n",
       "1  0.671177  \n",
       "2  0.799594  \n",
       "3  0.777490  \n",
       "4  0.998961  "
      ]
     },
     "execution_count": 118,
     "metadata": {},
     "output_type": "execute_result"
    }
   ],
   "source": [
    "data['k'] = data['WT grand total'] / (data['total']+1)\n",
    "data['k_arcsin'] = np.vectorize(np.arcsin)(data['k'])\n",
    "\n",
    "def sd_level(genotype):\n",
    "    if genotype in ['A', 'B', 'C', 'J', 'K', 'L']:\n",
    "        return 'SD72'\n",
    "    if genotype in ['D', 'E', 'F', 'M', 'N', 'O']:\n",
    "        return 'SD5'\n",
    "    if genotype in ['G', 'H', 'I', 'P', 'Q', 'R']:\n",
    "        return 'CyO'\n",
    "\n",
    "def rsp_level(genotype):\n",
    "    if genotype in ['A', 'B', 'C', 'D', 'E', 'F', 'G', 'H', 'I' ]:\n",
    "        return 'Rspss'\n",
    "    if genotype in ['J', 'K', 'L', 'M', 'N', 'O', 'P', 'Q', 'R']:\n",
    "        return 'Rspi'\n",
    "\n",
    "def ovd_level(genotype):\n",
    "    if genotype in ['C', 'F', 'I', 'L', 'O', 'R']:\n",
    "        return 'WT'\n",
    "    if genotype in ['B', 'E', 'H', 'K', 'N', 'Q']:\n",
    "        return 'het'\n",
    "    if genotype in ['A', 'D', 'G', 'J', 'M', 'P']:\n",
    "        return 'KO'\n",
    "\n",
    "data['SD'] = np.vectorize(sd_level)(data['genotype'])\n",
    "data['Rsp'] = np.vectorize(rsp_level)(data['genotype'])\n",
    "data['Ovd'] = np.vectorize(ovd_level)(data['genotype'])\n",
    "data.head()"
   ]
  },
  {
   "cell_type": "code",
   "execution_count": 108,
   "metadata": {},
   "outputs": [
    {
     "data": {
      "image/png": "[encoded data removed]",
      "text/plain": [
       "<Figure size 432x288 with 1 Axes>"
      ]
     },
     "metadata": {
      "needs_background": "light"
     },
     "output_type": "display_data"
    }
   ],
   "source": [
    "data.boxplot('k_arcsin', by='genotype')\n",
    "plt.show()"
   ]
  },
  {
   "cell_type": "code",
   "execution_count": 109,
   "metadata": {},
   "outputs": [
    {
     "data": {
      "image/png": "[encoded data removed]",
      "text/plain": [
       "<Figure size 432x288 with 1 Axes>"
      ]
     },
     "metadata": {
      "needs_background": "light"
     },
     "output_type": "display_data"
    }
   ],
   "source": [
    "data.boxplot('k_arcsin', by='SD')\n",
    "plt.show()"
   ]
  },
  {
   "cell_type": "code",
   "execution_count": 110,
   "metadata": {},
   "outputs": [
    {
     "data": {
      "image/png": "[encoded data removed]",
      "text/plain": [
       "<Figure size 432x288 with 1 Axes>"
      ]
     },
     "metadata": {
      "needs_background": "light"
     },
     "output_type": "display_data"
    }
   ],
   "source": [
    "data.boxplot('k_arcsin', by='Rsp')\n",
    "plt.show()"
   ]
  },
  {
   "cell_type": "code",
   "execution_count": 111,
   "metadata": {},
   "outputs": [
    {
     "data": {
      "image/png": "[encoded data removed]",
      "text/plain": [
       "<Figure size 432x288 with 1 Axes>"
      ]
     },
     "metadata": {
      "needs_background": "light"
     },
     "output_type": "display_data"
    }
   ],
   "source": [
    "data.boxplot('k_arcsin', by='Ovd')\n",
    "plt.show()"
   ]
  },
  {
   "cell_type": "code",
   "execution_count": 112,
   "metadata": {},
   "outputs": [
    {
     "name": "stdout",
     "output_type": "stream",
     "text": [
      "               sum_sq     df           F        PR(>F)\n",
      "SD           9.829466    1.0  359.289251  2.707163e-54\n",
      "Rsp         11.255775    1.0  411.424084  1.871547e-59\n",
      "SD:Rsp       6.603174    1.0  241.360964  5.583115e-41\n",
      "Ovd          1.165630    1.0   42.606430  2.612278e-10\n",
      "SD:Ovd       0.311391    1.0   11.382054  8.324048e-04\n",
      "Rsp:Ovd      1.352232    1.0   49.427130  1.243496e-11\n",
      "SD:Rsp:Ovd   0.173793    1.0    6.352544  1.220579e-02\n",
      "Residual     8.781945  321.0         NaN           NaN\n"
     ]
    }
   ],
   "source": [
    "data5 = data[data['SD'] != 'SD72']\n",
    "model = ols('k_arcsin ~ SD * Rsp * Ovd', data=data5).fit() # linear regression\n",
    "aov_table = sm.stats.anova_lm(model, typ=2)\n",
    "print(aov_table)"
   ]
  },
  {
   "cell_type": "code",
   "execution_count": 113,
   "metadata": {},
   "outputs": [
    {
     "data": {
      "text/html": [
       "<table class=\"simpletable\">\n",
       "<caption>OLS Regression Results</caption>\n",
       "<tr>\n",
       "  <th>Dep. Variable:</th>        <td>k_arcsin</td>     <th>  R-squared:         </th> <td>   0.776</td> \n",
       "</tr>\n",
       "<tr>\n",
       "  <th>Model:</th>                   <td>OLS</td>       <th>  Adj. R-squared:    </th> <td>   0.771</td> \n",
       "</tr>\n",
       "<tr>\n",
       "  <th>Method:</th>             <td>Least Squares</td>  <th>  F-statistic:       </th> <td>   158.9</td> \n",
       "</tr>\n",
       "<tr>\n",
       "  <th>Date:</th>             <td>Tue, 18 Jun 2019</td> <th>  Prob (F-statistic):</th> <td>2.80e-100</td>\n",
       "</tr>\n",
       "<tr>\n",
       "  <th>Time:</th>                 <td>15:59:04</td>     <th>  Log-Likelihood:    </th> <td>  129.21</td> \n",
       "</tr>\n",
       "<tr>\n",
       "  <th>No. Observations:</th>      <td>   329</td>      <th>  AIC:               </th> <td>  -242.4</td> \n",
       "</tr>\n",
       "<tr>\n",
       "  <th>Df Residuals:</th>          <td>   321</td>      <th>  BIC:               </th> <td>  -212.1</td> \n",
       "</tr>\n",
       "<tr>\n",
       "  <th>Df Model:</th>              <td>     7</td>      <th>                     </th>     <td> </td>    \n",
       "</tr>\n",
       "<tr>\n",
       "  <th>Covariance Type:</th>      <td>nonrobust</td>    <th>                     </th>     <td> </td>    \n",
       "</tr>\n",
       "</table>\n",
       "<table class=\"simpletable\">\n",
       "<tr>\n",
       "               <td></td>                 <th>coef</th>     <th>std err</th>      <th>t</th>      <th>P>|t|</th>  <th>[0.025</th>    <th>0.975]</th>  \n",
       "</tr>\n",
       "<tr>\n",
       "  <th>Intercept</th>                  <td>    0.4927</td> <td>    0.023</td> <td>   21.064</td> <td> 0.000</td> <td>    0.447</td> <td>    0.539</td>\n",
       "</tr>\n",
       "<tr>\n",
       "  <th>SD[T.SD5]</th>                  <td>    0.0374</td> <td>    0.032</td> <td>    1.153</td> <td> 0.250</td> <td>   -0.026</td> <td>    0.101</td>\n",
       "</tr>\n",
       "<tr>\n",
       "  <th>Rsp[T.Rspss]</th>               <td>    0.0191</td> <td>    0.032</td> <td>    0.590</td> <td> 0.556</td> <td>   -0.045</td> <td>    0.083</td>\n",
       "</tr>\n",
       "<tr>\n",
       "  <th>SD[T.SD5]:Rsp[T.Rspss]</th>     <td>    0.5018</td> <td>    0.045</td> <td>   11.153</td> <td> 0.000</td> <td>    0.413</td> <td>    0.590</td>\n",
       "</tr>\n",
       "<tr>\n",
       "  <th>Ovd</th>                        <td>   -0.0313</td> <td>    0.041</td> <td>   -0.772</td> <td> 0.441</td> <td>   -0.111</td> <td>    0.048</td>\n",
       "</tr>\n",
       "<tr>\n",
       "  <th>SD[T.SD5]:Ovd</th>              <td>    0.0267</td> <td>    0.056</td> <td>    0.475</td> <td> 0.635</td> <td>   -0.084</td> <td>    0.137</td>\n",
       "</tr>\n",
       "<tr>\n",
       "  <th>Rsp[T.Rspss]:Ovd</th>           <td>    0.1712</td> <td>    0.055</td> <td>    3.095</td> <td> 0.002</td> <td>    0.062</td> <td>    0.280</td>\n",
       "</tr>\n",
       "<tr>\n",
       "  <th>SD[T.SD5]:Rsp[T.Rspss]:Ovd</th> <td>    0.1945</td> <td>    0.077</td> <td>    2.520</td> <td> 0.012</td> <td>    0.043</td> <td>    0.346</td>\n",
       "</tr>\n",
       "</table>\n",
       "<table class=\"simpletable\">\n",
       "<tr>\n",
       "  <th>Omnibus:</th>       <td>19.653</td> <th>  Durbin-Watson:     </th> <td>   0.371</td>\n",
       "</tr>\n",
       "<tr>\n",
       "  <th>Prob(Omnibus):</th> <td> 0.000</td> <th>  Jarque-Bera (JB):  </th> <td>  55.574</td>\n",
       "</tr>\n",
       "<tr>\n",
       "  <th>Skew:</th>          <td>-0.132</td> <th>  Prob(JB):          </th> <td>8.56e-13</td>\n",
       "</tr>\n",
       "<tr>\n",
       "  <th>Kurtosis:</th>      <td> 4.996</td> <th>  Cond. No.          </th> <td>    17.2</td>\n",
       "</tr>\n",
       "</table><br/><br/>Warnings:<br/>[1] Standard Errors assume that the covariance matrix of the errors is correctly specified."
      ],
      "text/plain": [
       "<class 'statsmodels.iolib.summary.Summary'>\n",
       "\"\"\"\n",
       "                            OLS Regression Results                            \n",
       "==============================================================================\n",
       "Dep. Variable:               k_arcsin   R-squared:                       0.776\n",
       "Model:                            OLS   Adj. R-squared:                  0.771\n",
       "Method:                 Least Squares   F-statistic:                     158.9\n",
       "Date:                Tue, 18 Jun 2019   Prob (F-statistic):          2.80e-100\n",
       "Time:                        15:59:04   Log-Likelihood:                 129.21\n",
       "No. Observations:                 329   AIC:                            -242.4\n",
       "Df Residuals:                     321   BIC:                            -212.1\n",
       "Df Model:                           7                                         \n",
       "Covariance Type:            nonrobust                                         \n",
       "==============================================================================================\n",
       "                                 coef    std err          t      P>|t|      [0.025      0.975]\n",
       "----------------------------------------------------------------------------------------------\n",
       "Intercept                      0.4927      0.023     21.064      0.000       0.447       0.539\n",
       "SD[T.SD5]                      0.0374      0.032      1.153      0.250      -0.026       0.101\n",
       "Rsp[T.Rspss]                   0.0191      0.032      0.590      0.556      -0.045       0.083\n",
       "SD[T.SD5]:Rsp[T.Rspss]         0.5018      0.045     11.153      0.000       0.413       0.590\n",
       "Ovd                           -0.0313      0.041     -0.772      0.441      -0.111       0.048\n",
       "SD[T.SD5]:Ovd                  0.0267      0.056      0.475      0.635      -0.084       0.137\n",
       "Rsp[T.Rspss]:Ovd               0.1712      0.055      3.095      0.002       0.062       0.280\n",
       "SD[T.SD5]:Rsp[T.Rspss]:Ovd     0.1945      0.077      2.520      0.012       0.043       0.346\n",
       "==============================================================================\n",
       "Omnibus:                       19.653   Durbin-Watson:                   0.371\n",
       "Prob(Omnibus):                  0.000   Jarque-Bera (JB):               55.574\n",
       "Skew:                          -0.132   Prob(JB):                     8.56e-13\n",
       "Kurtosis:                       4.996   Cond. No.                         17.2\n",
       "==============================================================================\n",
       "\n",
       "Warnings:\n",
       "[1] Standard Errors assume that the covariance matrix of the errors is correctly specified.\n",
       "\"\"\""
      ]
     },
     "execution_count": 113,
     "metadata": {},
     "output_type": "execute_result"
    }
   ],
   "source": [
    "model.summary()"
   ]
  },
  {
   "cell_type": "code",
   "execution_count": 114,
   "metadata": {},
   "outputs": [
    {
     "name": "stdout",
     "output_type": "stream",
     "text": [
      "              sum_sq     df           F        PR(>F)\n",
      "SD          6.272682    1.0  516.256170  2.373867e-66\n",
      "Rsp         7.145339    1.0  588.077853  9.819891e-72\n",
      "SD:Rsp      4.629046    1.0  380.981126  9.265328e-55\n",
      "Ovd         0.548545    1.0   45.146479  9.666621e-11\n",
      "SD:Ovd      0.128880    1.0   10.607126  1.260253e-03\n",
      "Rsp:Ovd     0.890357    1.0   73.278414  6.687551e-16\n",
      "SD:Rsp:Ovd  0.068813    1.0    5.663460  1.796846e-02\n",
      "Residual    3.523595  290.0         NaN           NaN\n"
     ]
    }
   ],
   "source": [
    "data72 = data[data['SD'] != 'SD5']\n",
    "model = ols('k_arcsin ~ SD * Rsp * Ovd', data=data72).fit() # linear regression\n",
    "aov_table = sm.stats.anova_lm(model, typ=2)\n",
    "print(aov_table)"
   ]
  },
  {
   "cell_type": "code",
   "execution_count": 115,
   "metadata": {},
   "outputs": [
    {
     "data": {
      "text/html": [
       "<table class=\"simpletable\">\n",
       "<caption>OLS Regression Results</caption>\n",
       "<tr>\n",
       "  <th>Dep. Variable:</th>        <td>k_arcsin</td>     <th>  R-squared:         </th> <td>   0.838</td> \n",
       "</tr>\n",
       "<tr>\n",
       "  <th>Model:</th>                   <td>OLS</td>       <th>  Adj. R-squared:    </th> <td>   0.834</td> \n",
       "</tr>\n",
       "<tr>\n",
       "  <th>Method:</th>             <td>Least Squares</td>  <th>  F-statistic:       </th> <td>   214.6</td> \n",
       "</tr>\n",
       "<tr>\n",
       "  <th>Date:</th>             <td>Tue, 18 Jun 2019</td> <th>  Prob (F-statistic):</th> <td>1.01e-110</td>\n",
       "</tr>\n",
       "<tr>\n",
       "  <th>Time:</th>                 <td>15:59:11</td>     <th>  Log-Likelihood:    </th> <td>  238.36</td> \n",
       "</tr>\n",
       "<tr>\n",
       "  <th>No. Observations:</th>      <td>   298</td>      <th>  AIC:               </th> <td>  -460.7</td> \n",
       "</tr>\n",
       "<tr>\n",
       "  <th>Df Residuals:</th>          <td>   290</td>      <th>  BIC:               </th> <td>  -431.1</td> \n",
       "</tr>\n",
       "<tr>\n",
       "  <th>Df Model:</th>              <td>     7</td>      <th>                     </th>     <td> </td>    \n",
       "</tr>\n",
       "<tr>\n",
       "  <th>Covariance Type:</th>      <td>nonrobust</td>    <th>                     </th>     <td> </td>    \n",
       "</tr>\n",
       "</table>\n",
       "<table class=\"simpletable\">\n",
       "<tr>\n",
       "               <td></td>                  <th>coef</th>     <th>std err</th>      <th>t</th>      <th>P>|t|</th>  <th>[0.025</th>    <th>0.975]</th>  \n",
       "</tr>\n",
       "<tr>\n",
       "  <th>Intercept</th>                   <td>    0.4927</td> <td>    0.016</td> <td>   31.608</td> <td> 0.000</td> <td>    0.462</td> <td>    0.523</td>\n",
       "</tr>\n",
       "<tr>\n",
       "  <th>SD[T.SD72]</th>                  <td>    0.0402</td> <td>    0.022</td> <td>    1.805</td> <td> 0.072</td> <td>   -0.004</td> <td>    0.084</td>\n",
       "</tr>\n",
       "<tr>\n",
       "  <th>Rsp[T.Rspss]</th>                <td>    0.0191</td> <td>    0.022</td> <td>    0.885</td> <td> 0.377</td> <td>   -0.023</td> <td>    0.062</td>\n",
       "</tr>\n",
       "<tr>\n",
       "  <th>SD[T.SD72]:Rsp[T.Rspss]</th>     <td>    0.4577</td> <td>    0.032</td> <td>   14.398</td> <td> 0.000</td> <td>    0.395</td> <td>    0.520</td>\n",
       "</tr>\n",
       "<tr>\n",
       "  <th>Ovd</th>                         <td>   -0.0313</td> <td>    0.027</td> <td>   -1.158</td> <td> 0.248</td> <td>   -0.084</td> <td>    0.022</td>\n",
       "</tr>\n",
       "<tr>\n",
       "  <th>SD[T.SD72]:Ovd</th>              <td>    0.0264</td> <td>    0.037</td> <td>    0.706</td> <td> 0.481</td> <td>   -0.047</td> <td>    0.100</td>\n",
       "</tr>\n",
       "<tr>\n",
       "  <th>Rsp[T.Rspss]:Ovd</th>            <td>    0.1712</td> <td>    0.037</td> <td>    4.645</td> <td> 0.000</td> <td>    0.099</td> <td>    0.244</td>\n",
       "</tr>\n",
       "<tr>\n",
       "  <th>SD[T.SD72]:Rsp[T.Rspss]:Ovd</th> <td>    0.1288</td> <td>    0.054</td> <td>    2.380</td> <td> 0.018</td> <td>    0.022</td> <td>    0.235</td>\n",
       "</tr>\n",
       "</table>\n",
       "<table class=\"simpletable\">\n",
       "<tr>\n",
       "  <th>Omnibus:</th>       <td>44.556</td> <th>  Durbin-Watson:     </th> <td>   0.915</td>\n",
       "</tr>\n",
       "<tr>\n",
       "  <th>Prob(Omnibus):</th> <td> 0.000</td> <th>  Jarque-Bera (JB):  </th> <td> 289.295</td>\n",
       "</tr>\n",
       "<tr>\n",
       "  <th>Skew:</th>          <td> 0.329</td> <th>  Prob(JB):          </th> <td>1.52e-63</td>\n",
       "</tr>\n",
       "<tr>\n",
       "  <th>Kurtosis:</th>      <td> 7.782</td> <th>  Cond. No.          </th> <td>    16.0</td>\n",
       "</tr>\n",
       "</table><br/><br/>Warnings:<br/>[1] Standard Errors assume that the covariance matrix of the errors is correctly specified."
      ],
      "text/plain": [
       "<class 'statsmodels.iolib.summary.Summary'>\n",
       "\"\"\"\n",
       "                            OLS Regression Results                            \n",
       "==============================================================================\n",
       "Dep. Variable:               k_arcsin   R-squared:                       0.838\n",
       "Model:                            OLS   Adj. R-squared:                  0.834\n",
       "Method:                 Least Squares   F-statistic:                     214.6\n",
       "Date:                Tue, 18 Jun 2019   Prob (F-statistic):          1.01e-110\n",
       "Time:                        15:59:11   Log-Likelihood:                 238.36\n",
       "No. Observations:                 298   AIC:                            -460.7\n",
       "Df Residuals:                     290   BIC:                            -431.1\n",
       "Df Model:                           7                                         \n",
       "Covariance Type:            nonrobust                                         \n",
       "===============================================================================================\n",
       "                                  coef    std err          t      P>|t|      [0.025      0.975]\n",
       "-----------------------------------------------------------------------------------------------\n",
       "Intercept                       0.4927      0.016     31.608      0.000       0.462       0.523\n",
       "SD[T.SD72]                      0.0402      0.022      1.805      0.072      -0.004       0.084\n",
       "Rsp[T.Rspss]                    0.0191      0.022      0.885      0.377      -0.023       0.062\n",
       "SD[T.SD72]:Rsp[T.Rspss]         0.4577      0.032     14.398      0.000       0.395       0.520\n",
       "Ovd                            -0.0313      0.027     -1.158      0.248      -0.084       0.022\n",
       "SD[T.SD72]:Ovd                  0.0264      0.037      0.706      0.481      -0.047       0.100\n",
       "Rsp[T.Rspss]:Ovd                0.1712      0.037      4.645      0.000       0.099       0.244\n",
       "SD[T.SD72]:Rsp[T.Rspss]:Ovd     0.1288      0.054      2.380      0.018       0.022       0.235\n",
       "==============================================================================\n",
       "Omnibus:                       44.556   Durbin-Watson:                   0.915\n",
       "Prob(Omnibus):                  0.000   Jarque-Bera (JB):              289.295\n",
       "Skew:                           0.329   Prob(JB):                     1.52e-63\n",
       "Kurtosis:                       7.782   Cond. No.                         16.0\n",
       "==============================================================================\n",
       "\n",
       "Warnings:\n",
       "[1] Standard Errors assume that the covariance matrix of the errors is correctly specified.\n",
       "\"\"\""
      ]
     },
     "execution_count": 115,
     "metadata": {},
     "output_type": "execute_result"
    }
   ],
   "source": [
    "model.summary()"
   ]
  },
  {
   "cell_type": "code",
   "execution_count": 116,
   "metadata": {},
   "outputs": [
    {
     "name": "stdout",
     "output_type": "stream",
     "text": [
      "Multiple Comparison of Means - Tukey HSD,FWER=0.05\n",
      "===========================================\n",
      "group1 group2 meandiff lower  upper  reject\n",
      "-------------------------------------------\n",
      "  0      1     0.0772  0.0129 0.1415  True \n",
      "-------------------------------------------\n"
     ]
    }
   ],
   "source": [
    "df = data72\n",
    "mc = sm.stats.multicomp.MultiComparison(df['k_arcsin'], df['Ovd'])\n",
    "mc_results = mc.tukeyhsd()\n",
    "print(mc_results)"
   ]
  },
  {
   "cell_type": "code",
   "execution_count": 117,
   "metadata": {},
   "outputs": [
    {
     "name": "stdout",
     "output_type": "stream",
     "text": [
      "Multiple Comparison of Means - Tukey HSD,FWER=0.05\n",
      "===========================================\n",
      "group1 group2 meandiff lower  upper  reject\n",
      "-------------------------------------------\n",
      "  0      1     0.124   0.0459 0.2021  True \n",
      "-------------------------------------------\n"
     ]
    }
   ],
   "source": [
    "df = data5\n",
    "mc = sm.stats.multicomp.MultiComparison(df['k_arcsin'], df['Ovd'])\n",
    "mc_results = mc.tukeyhsd()\n",
    "print(mc_results)"
   ]
  },
  {
   "cell_type": "code",
   "execution_count": null,
   "metadata": {},
   "outputs": [],
   "source": []
  },
  {
   "cell_type": "code",
   "execution_count": null,
   "metadata": {},
   "outputs": [],
   "source": []
  }
 ],
 "metadata": {
  "kernelspec": {
   "display_name": "Python 3",
   "language": "python",
   "name": "python3"
  },
  "language_info": {
   "codemirror_mode": {
    "name": "ipython",
    "version": 3
   },
   "file_extension": ".py",
   "mimetype": "text/x-python",
   "name": "python",
   "nbconvert_exporter": "python",
   "pygments_lexer": "ipython3",
   "version": "3.7.2"
  }
 },
 "nbformat": 4,
 "nbformat_minor": 2
}
